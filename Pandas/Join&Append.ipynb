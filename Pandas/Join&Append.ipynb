{
 "cells": [
  {
   "cell_type": "markdown",
   "id": "017fb3c5-80b5-45b4-9e0e-def99a70a607",
   "metadata": {},
   "source": [
    "# Join "
   ]
  },
  {
   "cell_type": "code",
   "execution_count": 1,
   "id": "71567143-dbd0-433e-837f-07407de4bcde",
   "metadata": {},
   "outputs": [
    {
     "data": {
      "text/html": [
       "<div>\n",
       "<style scoped>\n",
       "    .dataframe tbody tr th:only-of-type {\n",
       "        vertical-align: middle;\n",
       "    }\n",
       "\n",
       "    .dataframe tbody tr th {\n",
       "        vertical-align: top;\n",
       "    }\n",
       "\n",
       "    .dataframe thead th {\n",
       "        text-align: right;\n",
       "    }\n",
       "</style>\n",
       "<table border=\"1\" class=\"dataframe\">\n",
       "  <thead>\n",
       "    <tr style=\"text-align: right;\">\n",
       "      <th></th>\n",
       "      <th>A</th>\n",
       "      <th>B</th>\n",
       "      <th>C</th>\n",
       "      <th>D</th>\n",
       "    </tr>\n",
       "  </thead>\n",
       "  <tbody>\n",
       "    <tr>\n",
       "      <th>0</th>\n",
       "      <td>1</td>\n",
       "      <td>11</td>\n",
       "      <td>10</td>\n",
       "      <td>11</td>\n",
       "    </tr>\n",
       "    <tr>\n",
       "      <th>1</th>\n",
       "      <td>2</td>\n",
       "      <td>12</td>\n",
       "      <td>20</td>\n",
       "      <td>22</td>\n",
       "    </tr>\n",
       "    <tr>\n",
       "      <th>2</th>\n",
       "      <td>3</td>\n",
       "      <td>13</td>\n",
       "      <td>30</td>\n",
       "      <td>33</td>\n",
       "    </tr>\n",
       "    <tr>\n",
       "      <th>3</th>\n",
       "      <td>4</td>\n",
       "      <td>14</td>\n",
       "      <td>40</td>\n",
       "      <td>44</td>\n",
       "    </tr>\n",
       "  </tbody>\n",
       "</table>\n",
       "</div>"
      ],
      "text/plain": [
       "   A   B   C   D\n",
       "0  1  11  10  11\n",
       "1  2  12  20  22\n",
       "2  3  13  30  33\n",
       "3  4  14  40  44"
      ]
     },
     "execution_count": 1,
     "metadata": {},
     "output_type": "execute_result"
    }
   ],
   "source": [
    "import pandas as pd\n",
    "\n",
    "var1 = pd.DataFrame({\"A\":[1,2,3,4],\"B\":[11,12,13,14]})\n",
    "var2 = pd.DataFrame({\"C\":[10,20,30,40],\"D\":[11,22,33,44]})\n",
    "\n",
    "var1.join(var2)"
   ]
  },
  {
   "cell_type": "markdown",
   "id": "9c8fefcc-2455-45ac-88fa-74946f3764f6",
   "metadata": {},
   "source": [
    "agar hm C & D se data ko km kr de to jha data km hoga vha NaN show hoga"
   ]
  },
  {
   "cell_type": "code",
   "execution_count": 2,
   "id": "d1201638-9e58-4140-a1a2-4030f931e43f",
   "metadata": {},
   "outputs": [
    {
     "data": {
      "text/html": [
       "<div>\n",
       "<style scoped>\n",
       "    .dataframe tbody tr th:only-of-type {\n",
       "        vertical-align: middle;\n",
       "    }\n",
       "\n",
       "    .dataframe tbody tr th {\n",
       "        vertical-align: top;\n",
       "    }\n",
       "\n",
       "    .dataframe thead th {\n",
       "        text-align: right;\n",
       "    }\n",
       "</style>\n",
       "<table border=\"1\" class=\"dataframe\">\n",
       "  <thead>\n",
       "    <tr style=\"text-align: right;\">\n",
       "      <th></th>\n",
       "      <th>A</th>\n",
       "      <th>B</th>\n",
       "      <th>C</th>\n",
       "      <th>D</th>\n",
       "    </tr>\n",
       "  </thead>\n",
       "  <tbody>\n",
       "    <tr>\n",
       "      <th>0</th>\n",
       "      <td>1</td>\n",
       "      <td>11</td>\n",
       "      <td>10.0</td>\n",
       "      <td>11.0</td>\n",
       "    </tr>\n",
       "    <tr>\n",
       "      <th>1</th>\n",
       "      <td>2</td>\n",
       "      <td>12</td>\n",
       "      <td>20.0</td>\n",
       "      <td>22.0</td>\n",
       "    </tr>\n",
       "    <tr>\n",
       "      <th>2</th>\n",
       "      <td>3</td>\n",
       "      <td>13</td>\n",
       "      <td>NaN</td>\n",
       "      <td>NaN</td>\n",
       "    </tr>\n",
       "    <tr>\n",
       "      <th>3</th>\n",
       "      <td>4</td>\n",
       "      <td>14</td>\n",
       "      <td>NaN</td>\n",
       "      <td>NaN</td>\n",
       "    </tr>\n",
       "  </tbody>\n",
       "</table>\n",
       "</div>"
      ],
      "text/plain": [
       "   A   B     C     D\n",
       "0  1  11  10.0  11.0\n",
       "1  2  12  20.0  22.0\n",
       "2  3  13   NaN   NaN\n",
       "3  4  14   NaN   NaN"
      ]
     },
     "execution_count": 2,
     "metadata": {},
     "output_type": "execute_result"
    }
   ],
   "source": [
    "var1 = pd.DataFrame({\"A\":[1,2,3,4],\"B\":[11,12,13,14]})\n",
    "var2 = pd.DataFrame({\"C\":[10,20],\"D\":[11,22]})\n",
    "\n",
    "var1.join(var2)"
   ]
  },
  {
   "cell_type": "markdown",
   "id": "376e479f-4cd6-457b-8824-4a840c76a8b8",
   "metadata": {},
   "source": [
    "from the above code we know jb bhi hm unmatched data ko dalte hai tb bhi join function properly work karta hai"
   ]
  },
  {
   "cell_type": "markdown",
   "id": "fcae937f-422e-4c8d-85b3-2fcb1936a123",
   "metadata": {},
   "source": [
    "hm dataframe ka index bhi change kr skte hai"
   ]
  },
  {
   "cell_type": "code",
   "execution_count": 4,
   "id": "7ec05b3c-71c5-477d-ae62-32b69157e433",
   "metadata": {},
   "outputs": [
    {
     "data": {
      "text/html": [
       "<div>\n",
       "<style scoped>\n",
       "    .dataframe tbody tr th:only-of-type {\n",
       "        vertical-align: middle;\n",
       "    }\n",
       "\n",
       "    .dataframe tbody tr th {\n",
       "        vertical-align: top;\n",
       "    }\n",
       "\n",
       "    .dataframe thead th {\n",
       "        text-align: right;\n",
       "    }\n",
       "</style>\n",
       "<table border=\"1\" class=\"dataframe\">\n",
       "  <thead>\n",
       "    <tr style=\"text-align: right;\">\n",
       "      <th></th>\n",
       "      <th>A</th>\n",
       "      <th>B</th>\n",
       "      <th>C</th>\n",
       "      <th>D</th>\n",
       "    </tr>\n",
       "  </thead>\n",
       "  <tbody>\n",
       "    <tr>\n",
       "      <th>a</th>\n",
       "      <td>1</td>\n",
       "      <td>11</td>\n",
       "      <td>10.0</td>\n",
       "      <td>11.0</td>\n",
       "    </tr>\n",
       "    <tr>\n",
       "      <th>b</th>\n",
       "      <td>2</td>\n",
       "      <td>12</td>\n",
       "      <td>20.0</td>\n",
       "      <td>22.0</td>\n",
       "    </tr>\n",
       "    <tr>\n",
       "      <th>c</th>\n",
       "      <td>3</td>\n",
       "      <td>13</td>\n",
       "      <td>NaN</td>\n",
       "      <td>NaN</td>\n",
       "    </tr>\n",
       "    <tr>\n",
       "      <th>d</th>\n",
       "      <td>4</td>\n",
       "      <td>14</td>\n",
       "      <td>NaN</td>\n",
       "      <td>NaN</td>\n",
       "    </tr>\n",
       "  </tbody>\n",
       "</table>\n",
       "</div>"
      ],
      "text/plain": [
       "   A   B     C     D\n",
       "a  1  11  10.0  11.0\n",
       "b  2  12  20.0  22.0\n",
       "c  3  13   NaN   NaN\n",
       "d  4  14   NaN   NaN"
      ]
     },
     "execution_count": 4,
     "metadata": {},
     "output_type": "execute_result"
    }
   ],
   "source": [
    "var1 = pd.DataFrame({\"A\":[1,2,3,4],\"B\":[11,12,13,14]},index=[\"a\",\"b\",\"c\",\"d\"])\n",
    "var2 = pd.DataFrame({\"C\":[10,20],\"D\":[11,22]},index=[\"a\",\"b\"])\n",
    "\n",
    "var1.join(var2)"
   ]
  },
  {
   "cell_type": "markdown",
   "id": "2769a3ce-2325-43bc-b6e2-00789b142888",
   "metadata": {},
   "source": [
    "agar hm C , D ko aage and A,B ko pichhe karna chahte hai than use"
   ]
  },
  {
   "cell_type": "code",
   "execution_count": 5,
   "id": "a1db4763-48de-4207-8f4f-7dc53b249652",
   "metadata": {},
   "outputs": [
    {
     "data": {
      "text/html": [
       "<div>\n",
       "<style scoped>\n",
       "    .dataframe tbody tr th:only-of-type {\n",
       "        vertical-align: middle;\n",
       "    }\n",
       "\n",
       "    .dataframe tbody tr th {\n",
       "        vertical-align: top;\n",
       "    }\n",
       "\n",
       "    .dataframe thead th {\n",
       "        text-align: right;\n",
       "    }\n",
       "</style>\n",
       "<table border=\"1\" class=\"dataframe\">\n",
       "  <thead>\n",
       "    <tr style=\"text-align: right;\">\n",
       "      <th></th>\n",
       "      <th>C</th>\n",
       "      <th>D</th>\n",
       "      <th>A</th>\n",
       "      <th>B</th>\n",
       "    </tr>\n",
       "  </thead>\n",
       "  <tbody>\n",
       "    <tr>\n",
       "      <th>a</th>\n",
       "      <td>10</td>\n",
       "      <td>11</td>\n",
       "      <td>1</td>\n",
       "      <td>11</td>\n",
       "    </tr>\n",
       "    <tr>\n",
       "      <th>b</th>\n",
       "      <td>20</td>\n",
       "      <td>22</td>\n",
       "      <td>2</td>\n",
       "      <td>12</td>\n",
       "    </tr>\n",
       "  </tbody>\n",
       "</table>\n",
       "</div>"
      ],
      "text/plain": [
       "    C   D  A   B\n",
       "a  10  11  1  11\n",
       "b  20  22  2  12"
      ]
     },
     "execution_count": 5,
     "metadata": {},
     "output_type": "execute_result"
    }
   ],
   "source": [
    "var1 = pd.DataFrame({\"A\":[1,2,3,4],\"B\":[11,12,13,14]},index=[\"a\",\"b\",\"c\",\"d\"])\n",
    "var2 = pd.DataFrame({\"C\":[10,20],\"D\":[11,22]},index=[\"a\",\"b\"])\n",
    "\n",
    "var2.join(var1)"
   ]
  },
  {
   "cell_type": "markdown",
   "id": "6fb7c8f7-311c-4e7a-969a-7fd89dc09c25",
   "metadata": {},
   "source": [
    "but agar hme sari hi value chahiye than use how parameter"
   ]
  },
  {
   "cell_type": "code",
   "execution_count": 6,
   "id": "a0ec622e-8e54-4c1a-b207-054c873cb45d",
   "metadata": {},
   "outputs": [
    {
     "data": {
      "text/html": [
       "<div>\n",
       "<style scoped>\n",
       "    .dataframe tbody tr th:only-of-type {\n",
       "        vertical-align: middle;\n",
       "    }\n",
       "\n",
       "    .dataframe tbody tr th {\n",
       "        vertical-align: top;\n",
       "    }\n",
       "\n",
       "    .dataframe thead th {\n",
       "        text-align: right;\n",
       "    }\n",
       "</style>\n",
       "<table border=\"1\" class=\"dataframe\">\n",
       "  <thead>\n",
       "    <tr style=\"text-align: right;\">\n",
       "      <th></th>\n",
       "      <th>C</th>\n",
       "      <th>D</th>\n",
       "      <th>A</th>\n",
       "      <th>B</th>\n",
       "    </tr>\n",
       "  </thead>\n",
       "  <tbody>\n",
       "    <tr>\n",
       "      <th>a</th>\n",
       "      <td>10</td>\n",
       "      <td>11</td>\n",
       "      <td>1</td>\n",
       "      <td>11</td>\n",
       "    </tr>\n",
       "    <tr>\n",
       "      <th>b</th>\n",
       "      <td>20</td>\n",
       "      <td>22</td>\n",
       "      <td>2</td>\n",
       "      <td>12</td>\n",
       "    </tr>\n",
       "  </tbody>\n",
       "</table>\n",
       "</div>"
      ],
      "text/plain": [
       "    C   D  A   B\n",
       "a  10  11  1  11\n",
       "b  20  22  2  12"
      ]
     },
     "execution_count": 6,
     "metadata": {},
     "output_type": "execute_result"
    }
   ],
   "source": [
    "var1 = pd.DataFrame({\"A\":[1,2,3,4],\"B\":[11,12,13,14]},index=[\"a\",\"b\",\"c\",\"d\"])\n",
    "var2 = pd.DataFrame({\"C\":[10,20],\"D\":[11,22]},index=[\"a\",\"b\"])\n",
    "\n",
    "var2.join(var1,how=\"left\")"
   ]
  },
  {
   "cell_type": "code",
   "execution_count": 7,
   "id": "c3c64a9e-b871-493c-aead-ad8c9c996df4",
   "metadata": {},
   "outputs": [
    {
     "data": {
      "text/html": [
       "<div>\n",
       "<style scoped>\n",
       "    .dataframe tbody tr th:only-of-type {\n",
       "        vertical-align: middle;\n",
       "    }\n",
       "\n",
       "    .dataframe tbody tr th {\n",
       "        vertical-align: top;\n",
       "    }\n",
       "\n",
       "    .dataframe thead th {\n",
       "        text-align: right;\n",
       "    }\n",
       "</style>\n",
       "<table border=\"1\" class=\"dataframe\">\n",
       "  <thead>\n",
       "    <tr style=\"text-align: right;\">\n",
       "      <th></th>\n",
       "      <th>C</th>\n",
       "      <th>D</th>\n",
       "      <th>A</th>\n",
       "      <th>B</th>\n",
       "    </tr>\n",
       "  </thead>\n",
       "  <tbody>\n",
       "    <tr>\n",
       "      <th>a</th>\n",
       "      <td>10.0</td>\n",
       "      <td>11.0</td>\n",
       "      <td>1</td>\n",
       "      <td>11</td>\n",
       "    </tr>\n",
       "    <tr>\n",
       "      <th>b</th>\n",
       "      <td>20.0</td>\n",
       "      <td>22.0</td>\n",
       "      <td>2</td>\n",
       "      <td>12</td>\n",
       "    </tr>\n",
       "    <tr>\n",
       "      <th>c</th>\n",
       "      <td>NaN</td>\n",
       "      <td>NaN</td>\n",
       "      <td>3</td>\n",
       "      <td>13</td>\n",
       "    </tr>\n",
       "    <tr>\n",
       "      <th>d</th>\n",
       "      <td>NaN</td>\n",
       "      <td>NaN</td>\n",
       "      <td>4</td>\n",
       "      <td>14</td>\n",
       "    </tr>\n",
       "  </tbody>\n",
       "</table>\n",
       "</div>"
      ],
      "text/plain": [
       "      C     D  A   B\n",
       "a  10.0  11.0  1  11\n",
       "b  20.0  22.0  2  12\n",
       "c   NaN   NaN  3  13\n",
       "d   NaN   NaN  4  14"
      ]
     },
     "execution_count": 7,
     "metadata": {},
     "output_type": "execute_result"
    }
   ],
   "source": [
    "var1 = pd.DataFrame({\"A\":[1,2,3,4],\"B\":[11,12,13,14]},index=[\"a\",\"b\",\"c\",\"d\"])\n",
    "var2 = pd.DataFrame({\"C\":[10,20],\"D\":[11,22]},index=[\"a\",\"b\"])\n",
    "\n",
    "var2.join(var1,how=\"right\")"
   ]
  },
  {
   "cell_type": "markdown",
   "id": "9ec6fd58-8eb8-4f5c-a7a2-ad7f88beb785",
   "metadata": {},
   "source": [
    "using outer for the union data"
   ]
  },
  {
   "cell_type": "code",
   "execution_count": 8,
   "id": "f6738cc5-5404-466c-8c74-85fc0c2233a2",
   "metadata": {},
   "outputs": [
    {
     "data": {
      "text/html": [
       "<div>\n",
       "<style scoped>\n",
       "    .dataframe tbody tr th:only-of-type {\n",
       "        vertical-align: middle;\n",
       "    }\n",
       "\n",
       "    .dataframe tbody tr th {\n",
       "        vertical-align: top;\n",
       "    }\n",
       "\n",
       "    .dataframe thead th {\n",
       "        text-align: right;\n",
       "    }\n",
       "</style>\n",
       "<table border=\"1\" class=\"dataframe\">\n",
       "  <thead>\n",
       "    <tr style=\"text-align: right;\">\n",
       "      <th></th>\n",
       "      <th>C</th>\n",
       "      <th>D</th>\n",
       "      <th>A</th>\n",
       "      <th>B</th>\n",
       "    </tr>\n",
       "  </thead>\n",
       "  <tbody>\n",
       "    <tr>\n",
       "      <th>a</th>\n",
       "      <td>10.0</td>\n",
       "      <td>11.0</td>\n",
       "      <td>1</td>\n",
       "      <td>11</td>\n",
       "    </tr>\n",
       "    <tr>\n",
       "      <th>b</th>\n",
       "      <td>20.0</td>\n",
       "      <td>22.0</td>\n",
       "      <td>2</td>\n",
       "      <td>12</td>\n",
       "    </tr>\n",
       "    <tr>\n",
       "      <th>c</th>\n",
       "      <td>NaN</td>\n",
       "      <td>NaN</td>\n",
       "      <td>3</td>\n",
       "      <td>13</td>\n",
       "    </tr>\n",
       "    <tr>\n",
       "      <th>d</th>\n",
       "      <td>NaN</td>\n",
       "      <td>NaN</td>\n",
       "      <td>4</td>\n",
       "      <td>14</td>\n",
       "    </tr>\n",
       "  </tbody>\n",
       "</table>\n",
       "</div>"
      ],
      "text/plain": [
       "      C     D  A   B\n",
       "a  10.0  11.0  1  11\n",
       "b  20.0  22.0  2  12\n",
       "c   NaN   NaN  3  13\n",
       "d   NaN   NaN  4  14"
      ]
     },
     "execution_count": 8,
     "metadata": {},
     "output_type": "execute_result"
    }
   ],
   "source": [
    "var1 = pd.DataFrame({\"A\":[1,2,3,4],\"B\":[11,12,13,14]},index=[\"a\",\"b\",\"c\",\"d\"])\n",
    "var2 = pd.DataFrame({\"C\":[10,20],\"D\":[11,22]},index=[\"a\",\"b\"])\n",
    "\n",
    "var2.join(var1,how=\"outer\")"
   ]
  },
  {
   "cell_type": "markdown",
   "id": "da222a5d-b0b2-479d-b972-a1b97e6cf843",
   "metadata": {},
   "source": [
    "using inner for the intersection data"
   ]
  },
  {
   "cell_type": "code",
   "execution_count": 9,
   "id": "c71fd429-6c22-43d1-af10-5615c9bd33de",
   "metadata": {},
   "outputs": [
    {
     "data": {
      "text/html": [
       "<div>\n",
       "<style scoped>\n",
       "    .dataframe tbody tr th:only-of-type {\n",
       "        vertical-align: middle;\n",
       "    }\n",
       "\n",
       "    .dataframe tbody tr th {\n",
       "        vertical-align: top;\n",
       "    }\n",
       "\n",
       "    .dataframe thead th {\n",
       "        text-align: right;\n",
       "    }\n",
       "</style>\n",
       "<table border=\"1\" class=\"dataframe\">\n",
       "  <thead>\n",
       "    <tr style=\"text-align: right;\">\n",
       "      <th></th>\n",
       "      <th>C</th>\n",
       "      <th>D</th>\n",
       "      <th>A</th>\n",
       "      <th>B</th>\n",
       "    </tr>\n",
       "  </thead>\n",
       "  <tbody>\n",
       "    <tr>\n",
       "      <th>a</th>\n",
       "      <td>10</td>\n",
       "      <td>11</td>\n",
       "      <td>1</td>\n",
       "      <td>11</td>\n",
       "    </tr>\n",
       "    <tr>\n",
       "      <th>b</th>\n",
       "      <td>20</td>\n",
       "      <td>22</td>\n",
       "      <td>2</td>\n",
       "      <td>12</td>\n",
       "    </tr>\n",
       "  </tbody>\n",
       "</table>\n",
       "</div>"
      ],
      "text/plain": [
       "    C   D  A   B\n",
       "a  10  11  1  11\n",
       "b  20  22  2  12"
      ]
     },
     "execution_count": 9,
     "metadata": {},
     "output_type": "execute_result"
    }
   ],
   "source": [
    "var1 = pd.DataFrame({\"A\":[1,2,3,4],\"B\":[11,12,13,14]},index=[\"a\",\"b\",\"c\",\"d\"])\n",
    "var2 = pd.DataFrame({\"C\":[10,20],\"D\":[11,22]},index=[\"a\",\"b\"])\n",
    "\n",
    "var2.join(var1,how=\"inner\")"
   ]
  },
  {
   "cell_type": "markdown",
   "id": "932847a7-a24a-4f58-81e2-c845ad1ee872",
   "metadata": {},
   "source": [
    "agar hm column name same rakhke join kare to error show hoga. But using the function of lsuffix hm runtime me bhi column name ko change kr skte hai"
   ]
  },
  {
   "cell_type": "code",
   "execution_count": 10,
   "id": "ffed2437-f228-4765-8a80-3f6633711029",
   "metadata": {},
   "outputs": [
    {
     "data": {
      "text/html": [
       "<div>\n",
       "<style scoped>\n",
       "    .dataframe tbody tr th:only-of-type {\n",
       "        vertical-align: middle;\n",
       "    }\n",
       "\n",
       "    .dataframe tbody tr th {\n",
       "        vertical-align: top;\n",
       "    }\n",
       "\n",
       "    .dataframe thead th {\n",
       "        text-align: right;\n",
       "    }\n",
       "</style>\n",
       "<table border=\"1\" class=\"dataframe\">\n",
       "  <thead>\n",
       "    <tr style=\"text-align: right;\">\n",
       "      <th></th>\n",
       "      <th>C</th>\n",
       "      <th>B_12</th>\n",
       "      <th>A</th>\n",
       "      <th>B</th>\n",
       "    </tr>\n",
       "  </thead>\n",
       "  <tbody>\n",
       "    <tr>\n",
       "      <th>a</th>\n",
       "      <td>10.0</td>\n",
       "      <td>11.0</td>\n",
       "      <td>1</td>\n",
       "      <td>11</td>\n",
       "    </tr>\n",
       "    <tr>\n",
       "      <th>b</th>\n",
       "      <td>20.0</td>\n",
       "      <td>22.0</td>\n",
       "      <td>2</td>\n",
       "      <td>12</td>\n",
       "    </tr>\n",
       "    <tr>\n",
       "      <th>c</th>\n",
       "      <td>NaN</td>\n",
       "      <td>NaN</td>\n",
       "      <td>3</td>\n",
       "      <td>13</td>\n",
       "    </tr>\n",
       "    <tr>\n",
       "      <th>d</th>\n",
       "      <td>NaN</td>\n",
       "      <td>NaN</td>\n",
       "      <td>4</td>\n",
       "      <td>14</td>\n",
       "    </tr>\n",
       "  </tbody>\n",
       "</table>\n",
       "</div>"
      ],
      "text/plain": [
       "      C  B_12  A   B\n",
       "a  10.0  11.0  1  11\n",
       "b  20.0  22.0  2  12\n",
       "c   NaN   NaN  3  13\n",
       "d   NaN   NaN  4  14"
      ]
     },
     "execution_count": 10,
     "metadata": {},
     "output_type": "execute_result"
    }
   ],
   "source": [
    "var1 = pd.DataFrame({\"A\":[1,2,3,4],\"B\":[11,12,13,14]},index=[\"a\",\"b\",\"c\",\"d\"])\n",
    "var2 = pd.DataFrame({\"C\":[10,20],\"B\":[11,22]},index=[\"a\",\"b\"])\n",
    "\n",
    "var2.join(var1,how=\"outer\",lsuffix=\"_12\")"
   ]
  },
  {
   "cell_type": "markdown",
   "id": "79a09c84-42e9-4d56-8f2a-9efb7d69d073",
   "metadata": {},
   "source": [
    "agar hm right suffix ko change karna chahte hai than use rsuffix"
   ]
  },
  {
   "cell_type": "code",
   "execution_count": 11,
   "id": "3e0be00e-0a30-4d2a-b9ed-196c770c62ae",
   "metadata": {},
   "outputs": [
    {
     "data": {
      "text/html": [
       "<div>\n",
       "<style scoped>\n",
       "    .dataframe tbody tr th:only-of-type {\n",
       "        vertical-align: middle;\n",
       "    }\n",
       "\n",
       "    .dataframe tbody tr th {\n",
       "        vertical-align: top;\n",
       "    }\n",
       "\n",
       "    .dataframe thead th {\n",
       "        text-align: right;\n",
       "    }\n",
       "</style>\n",
       "<table border=\"1\" class=\"dataframe\">\n",
       "  <thead>\n",
       "    <tr style=\"text-align: right;\">\n",
       "      <th></th>\n",
       "      <th>C</th>\n",
       "      <th>B_12</th>\n",
       "      <th>A</th>\n",
       "      <th>B_123</th>\n",
       "    </tr>\n",
       "  </thead>\n",
       "  <tbody>\n",
       "    <tr>\n",
       "      <th>a</th>\n",
       "      <td>10.0</td>\n",
       "      <td>11.0</td>\n",
       "      <td>1</td>\n",
       "      <td>11</td>\n",
       "    </tr>\n",
       "    <tr>\n",
       "      <th>b</th>\n",
       "      <td>20.0</td>\n",
       "      <td>22.0</td>\n",
       "      <td>2</td>\n",
       "      <td>12</td>\n",
       "    </tr>\n",
       "    <tr>\n",
       "      <th>c</th>\n",
       "      <td>NaN</td>\n",
       "      <td>NaN</td>\n",
       "      <td>3</td>\n",
       "      <td>13</td>\n",
       "    </tr>\n",
       "    <tr>\n",
       "      <th>d</th>\n",
       "      <td>NaN</td>\n",
       "      <td>NaN</td>\n",
       "      <td>4</td>\n",
       "      <td>14</td>\n",
       "    </tr>\n",
       "  </tbody>\n",
       "</table>\n",
       "</div>"
      ],
      "text/plain": [
       "      C  B_12  A  B_123\n",
       "a  10.0  11.0  1     11\n",
       "b  20.0  22.0  2     12\n",
       "c   NaN   NaN  3     13\n",
       "d   NaN   NaN  4     14"
      ]
     },
     "execution_count": 11,
     "metadata": {},
     "output_type": "execute_result"
    }
   ],
   "source": [
    "var1 = pd.DataFrame({\"A\":[1,2,3,4],\"B\":[11,12,13,14]},index=[\"a\",\"b\",\"c\",\"d\"])\n",
    "var2 = pd.DataFrame({\"C\":[10,20],\"B\":[11,22]},index=[\"a\",\"b\"])\n",
    "\n",
    "var2.join(var1,how=\"outer\",lsuffix=\"_12\",rsuffix=\"_123\")"
   ]
  },
  {
   "cell_type": "markdown",
   "id": "bd35f6a6-789a-49b5-8d8d-67a2291bb09f",
   "metadata": {},
   "source": [
    "lsuffix & rsuffix could be same"
   ]
  },
  {
   "cell_type": "code",
   "execution_count": 12,
   "id": "55e91cf8-174f-491e-b6a9-ac5d83b1a5b4",
   "metadata": {},
   "outputs": [
    {
     "data": {
      "text/html": [
       "<div>\n",
       "<style scoped>\n",
       "    .dataframe tbody tr th:only-of-type {\n",
       "        vertical-align: middle;\n",
       "    }\n",
       "\n",
       "    .dataframe tbody tr th {\n",
       "        vertical-align: top;\n",
       "    }\n",
       "\n",
       "    .dataframe thead th {\n",
       "        text-align: right;\n",
       "    }\n",
       "</style>\n",
       "<table border=\"1\" class=\"dataframe\">\n",
       "  <thead>\n",
       "    <tr style=\"text-align: right;\">\n",
       "      <th></th>\n",
       "      <th>C</th>\n",
       "      <th>B_12</th>\n",
       "      <th>A</th>\n",
       "      <th>B_12</th>\n",
       "    </tr>\n",
       "  </thead>\n",
       "  <tbody>\n",
       "    <tr>\n",
       "      <th>a</th>\n",
       "      <td>10.0</td>\n",
       "      <td>11.0</td>\n",
       "      <td>1</td>\n",
       "      <td>11</td>\n",
       "    </tr>\n",
       "    <tr>\n",
       "      <th>b</th>\n",
       "      <td>20.0</td>\n",
       "      <td>22.0</td>\n",
       "      <td>2</td>\n",
       "      <td>12</td>\n",
       "    </tr>\n",
       "    <tr>\n",
       "      <th>c</th>\n",
       "      <td>NaN</td>\n",
       "      <td>NaN</td>\n",
       "      <td>3</td>\n",
       "      <td>13</td>\n",
       "    </tr>\n",
       "    <tr>\n",
       "      <th>d</th>\n",
       "      <td>NaN</td>\n",
       "      <td>NaN</td>\n",
       "      <td>4</td>\n",
       "      <td>14</td>\n",
       "    </tr>\n",
       "  </tbody>\n",
       "</table>\n",
       "</div>"
      ],
      "text/plain": [
       "      C  B_12  A  B_12\n",
       "a  10.0  11.0  1    11\n",
       "b  20.0  22.0  2    12\n",
       "c   NaN   NaN  3    13\n",
       "d   NaN   NaN  4    14"
      ]
     },
     "execution_count": 12,
     "metadata": {},
     "output_type": "execute_result"
    }
   ],
   "source": [
    "var1 = pd.DataFrame({\"A\":[1,2,3,4],\"B\":[11,12,13,14]},index=[\"a\",\"b\",\"c\",\"d\"])\n",
    "var2 = pd.DataFrame({\"C\":[10,20],\"B\":[11,22]},index=[\"a\",\"b\"])\n",
    "\n",
    "var2.join(var1,how=\"outer\",lsuffix=\"_12\",rsuffix=\"_12\")"
   ]
  },
  {
   "cell_type": "markdown",
   "id": "0aa952a0-7ff9-447d-bb38-a26a5a261337",
   "metadata": {},
   "source": [
    "# Append"
   ]
  },
  {
   "cell_type": "markdown",
   "id": "cf6a8286-561a-465e-ba85-8f5f21e843d5",
   "metadata": {},
   "source": [
    "var1 = pd.DataFrame({\"A\":[1,2,3,4],\"B\":[11,12,13,14]},index=[\"a\",\"b\",\"c\",\"d\"])\n",
    "var2 = pd.DataFrame({\"C\":[10,20],\"B\":[11,22]},index=[\"a\",\"b\"])\n",
    "\n",
    "var1.append(var2) # Append concept is removed from pandas 2.0 now we use Concat method"
   ]
  },
  {
   "cell_type": "markdown",
   "id": "877a8737-8666-4d34-bd19-78b0ec8bda2d",
   "metadata": {},
   "source": [
    "# Concat"
   ]
  },
  {
   "cell_type": "code",
   "execution_count": 14,
   "id": "9945feb0-3985-44a9-bd3c-a6ceed574aac",
   "metadata": {},
   "outputs": [
    {
     "name": "stdout",
     "output_type": "stream",
     "text": [
      "     A   B     C\n",
      "a  1.0  11   NaN\n",
      "b  2.0  12   NaN\n",
      "c  3.0  13   NaN\n",
      "d  4.0  14   NaN\n",
      "a  NaN  11  10.0\n",
      "b  NaN  22  20.0\n"
     ]
    }
   ],
   "source": [
    "import pandas as pd\n",
    "\n",
    "var1 = pd.DataFrame({\"A\": [1, 2, 3, 4], \"B\": [11, 12, 13, 14]}, index=[\"a\", \"b\", \"c\", \"d\"])\n",
    "var2 = pd.DataFrame({\"C\": [10, 20], \"B\": [11, 22]}, index=[\"a\", \"b\"])\n",
    "\n",
    "result = pd.concat([var1, var2])\n",
    "print(result)"
   ]
  },
  {
   "cell_type": "markdown",
   "id": "b949a359-f2de-466f-8fe1-ec044f0a73e3",
   "metadata": {},
   "source": [
    "In the above code sare data merge ho chuke hai"
   ]
  },
  {
   "cell_type": "markdown",
   "id": "f3039dfd-d876-46b8-94a3-49fe335e4225",
   "metadata": {},
   "source": [
    "if we want to remove the index value than data follows 0 1 2 ... formate."
   ]
  },
  {
   "cell_type": "code",
   "execution_count": 15,
   "id": "807182d1-c78a-4c51-93c0-5d98c24e70c5",
   "metadata": {},
   "outputs": [
    {
     "name": "stdout",
     "output_type": "stream",
     "text": [
      "     A   B     C\n",
      "0  1.0  11   NaN\n",
      "1  2.0  12   NaN\n",
      "2  3.0  13   NaN\n",
      "3  4.0  14   NaN\n",
      "0  NaN  11  10.0\n",
      "1  NaN  22  20.0\n"
     ]
    }
   ],
   "source": [
    "import pandas as pd\n",
    "\n",
    "var1 = pd.DataFrame({\"A\": [1, 2, 3, 4], \"B\": [11, 12, 13, 14]})\n",
    "var2 = pd.DataFrame({\"C\": [10, 20], \"B\": [11, 22]})\n",
    "\n",
    "result = pd.concat([var1, var2])\n",
    "print(result)"
   ]
  },
  {
   "cell_type": "markdown",
   "id": "9a95a50d-d3e8-4618-be00-93300ffa2de7",
   "metadata": {},
   "source": [
    "hamne 2 data ko append kiya hai to index 0 1 to 0,1 repeate hua hai, but agar hm chahte hai ki ye ek sequence me show ho than use ignore_index = True"
   ]
  },
  {
   "cell_type": "code",
   "execution_count": 18,
   "id": "5c681f1d-0825-4866-9215-df046b4e03cd",
   "metadata": {},
   "outputs": [
    {
     "name": "stdout",
     "output_type": "stream",
     "text": [
      "     A     B     C     D\n",
      "0  1.0  11.0   NaN   NaN\n",
      "1  2.0  12.0   NaN   NaN\n",
      "2  3.0  13.0   NaN   NaN\n",
      "3  4.0  14.0   NaN   NaN\n",
      "4  NaN   NaN  10.0  11.0\n",
      "5  NaN   NaN  20.0  22.0\n"
     ]
    }
   ],
   "source": [
    "import pandas as pd\n",
    "\n",
    "var1 = pd.DataFrame({\"A\": [1, 2, 3, 4], \"B\": [11, 12, 13, 14]})\n",
    "var2 = pd.DataFrame({\"C\": [10, 20], \"D\": [11, 22]})\n",
    "\n",
    "result = pd.concat([var1, var2], ignore_index=True)\n",
    "print(result)"
   ]
  },
  {
   "cell_type": "code",
   "execution_count": null,
   "id": "762babd8-7a90-4209-925a-d7beb76f88c3",
   "metadata": {},
   "outputs": [],
   "source": []
  },
  {
   "cell_type": "code",
   "execution_count": null,
   "id": "369b62bd-cdbc-4a7c-aec1-d18b689fec6e",
   "metadata": {},
   "outputs": [],
   "source": []
  }
 ],
 "metadata": {
  "kernelspec": {
   "display_name": "Python [conda env:base] *",
   "language": "python",
   "name": "conda-base-py"
  },
  "language_info": {
   "codemirror_mode": {
    "name": "ipython",
    "version": 3
   },
   "file_extension": ".py",
   "mimetype": "text/x-python",
   "name": "python",
   "nbconvert_exporter": "python",
   "pygments_lexer": "ipython3",
   "version": "3.13.5"
  }
 },
 "nbformat": 4,
 "nbformat_minor": 5
}
